{
 "cells": [
  {
   "cell_type": "code",
   "execution_count": 64,
   "metadata": {
    "colab": {},
    "colab_type": "code",
    "id": "q5RCysOH9jUp"
   },
   "outputs": [],
   "source": [
    "import numpy as np\n",
    "import pandas as pd\n",
    "import matplotlib.pyplot as plt\n",
    "import seaborn as sns"
   ]
  },
  {
   "cell_type": "markdown",
   "metadata": {
    "colab_type": "text",
    "id": "rVRV4pYw9jUt"
   },
   "source": [
    "It is highly recommended to read the documentation before implementing any alogorithm.\n",
    "\n",
    "LINEAR REGRESSION : \n",
    "https://scikit-learn.org/stable/modules/generated/sklearn.linear_model.LinearRegression.html <br>\n",
    "LOGISTIC REGRESSION :\n",
    "https://scikit-learn.org/stable/modules/generated/sklearn.linear_model.LogisticRegression.html<br>\n",
    "SVM REGRESSOR :\n",
    "http://scikit-learn.org/stable/modules/generated/sklearn.svm.SVR.html<br>\n",
    "SVM CLASSIFIER :\n",
    "http://scikit-learn.org/stable/modules/generated/sklearn.svm.SVC.html<br>\n",
    "DECISION TREE CLASSIFIER :\n",
    "https://scikit-learn.org/stable/modules/generated/sklearn.tree.DecisionTreeClassifier.html<br>\n",
    "DECISION TREE Regressor :\n",
    "https://scikit-learn.org/stable/modules/generated/sklearn.tree.DecisionTreeRegressor.html<br>\n",
    "RANDOM FOREST CLASSIFIER :\n",
    "https://scikit-learn.org/stable/modules/generated/sklearn.ensemble.RandomForestClassifier.html<br>\n",
    "RANDOM FOREST CLASSIFIER :\n",
    "https://scikit-learn.org/stable/modules/generated/sklearn.ensemble.RandomForestRegressor.html<br>\n",
    "\n",
    "METRICS:\n",
    "R2_SCORE : http://scikit-learn.org/stable/modules/generated/sklearn.metrics.r2_score.html<br>\n",
    "MSE : http://scikit-learn.org/stable/modules/generated/sklearn.metrics.mean_squared_error.html<br>\n",
    "MAE : http://scikit-learn.org/stable/modules/generated/sklearn.metrics.mean_absolute_error.html<br>\n",
    "Confusion Matrix : https://scikit-learn.org/stable/modules/generated/sklearn.metrics.confusion_matrix.html<br>"
   ]
  },
  {
   "cell_type": "markdown",
   "metadata": {
    "colab_type": "text",
    "id": "_lclLEtp9jUu"
   },
   "source": [
    "WRITE THE CODE FOR IMPORTING THE DATA"
   ]
  },
  {
   "cell_type": "code",
   "execution_count": 65,
   "metadata": {
    "colab": {},
    "colab_type": "code",
    "id": "JRV20Tv-9jUu"
   },
   "outputs": [],
   "source": [
    "#IMPORT THE DATA AS 'data'\n",
    "data = pd.read_csv(\"WEEK4.csv\")"
   ]
  },
  {
   "cell_type": "code",
   "execution_count": 66,
   "metadata": {
    "colab": {},
    "colab_type": "code",
    "id": "fmude2rPzgyy"
   },
   "outputs": [
    {
     "data": {
      "text/html": [
       "<div>\n",
       "<style scoped>\n",
       "    .dataframe tbody tr th:only-of-type {\n",
       "        vertical-align: middle;\n",
       "    }\n",
       "\n",
       "    .dataframe tbody tr th {\n",
       "        vertical-align: top;\n",
       "    }\n",
       "\n",
       "    .dataframe thead th {\n",
       "        text-align: right;\n",
       "    }\n",
       "</style>\n",
       "<table border=\"1\" class=\"dataframe\">\n",
       "  <thead>\n",
       "    <tr style=\"text-align: right;\">\n",
       "      <th></th>\n",
       "      <th>price</th>\n",
       "      <th>year</th>\n",
       "      <th>mileage</th>\n",
       "      <th>color</th>\n",
       "      <th>AGE_IN_YEARS</th>\n",
       "      <th>chevrolet</th>\n",
       "      <th>dodge</th>\n",
       "      <th>gmc</th>\n",
       "      <th>jeep</th>\n",
       "      <th>nissan</th>\n",
       "      <th>...</th>\n",
       "      <th>black</th>\n",
       "      <th>blue</th>\n",
       "      <th>gray</th>\n",
       "      <th>no_color</th>\n",
       "      <th>silver</th>\n",
       "      <th>white</th>\n",
       "      <th>Goa</th>\n",
       "      <th>MP</th>\n",
       "      <th>Maharashtra</th>\n",
       "      <th>UP</th>\n",
       "    </tr>\n",
       "  </thead>\n",
       "  <tbody>\n",
       "    <tr>\n",
       "      <th>0</th>\n",
       "      <td>2899</td>\n",
       "      <td>2011</td>\n",
       "      <td>190552.0</td>\n",
       "      <td>silver</td>\n",
       "      <td>3</td>\n",
       "      <td>0</td>\n",
       "      <td>0</td>\n",
       "      <td>0</td>\n",
       "      <td>0</td>\n",
       "      <td>0</td>\n",
       "      <td>...</td>\n",
       "      <td>0</td>\n",
       "      <td>0</td>\n",
       "      <td>0</td>\n",
       "      <td>0</td>\n",
       "      <td>1</td>\n",
       "      <td>0</td>\n",
       "      <td>0</td>\n",
       "      <td>0</td>\n",
       "      <td>0</td>\n",
       "      <td>1</td>\n",
       "    </tr>\n",
       "    <tr>\n",
       "      <th>1</th>\n",
       "      <td>5350</td>\n",
       "      <td>2018</td>\n",
       "      <td>39590.0</td>\n",
       "      <td>silver</td>\n",
       "      <td>2</td>\n",
       "      <td>0</td>\n",
       "      <td>1</td>\n",
       "      <td>0</td>\n",
       "      <td>0</td>\n",
       "      <td>0</td>\n",
       "      <td>...</td>\n",
       "      <td>0</td>\n",
       "      <td>0</td>\n",
       "      <td>0</td>\n",
       "      <td>0</td>\n",
       "      <td>1</td>\n",
       "      <td>0</td>\n",
       "      <td>0</td>\n",
       "      <td>1</td>\n",
       "      <td>0</td>\n",
       "      <td>0</td>\n",
       "    </tr>\n",
       "    <tr>\n",
       "      <th>2</th>\n",
       "      <td>25000</td>\n",
       "      <td>2014</td>\n",
       "      <td>64146.0</td>\n",
       "      <td>blue</td>\n",
       "      <td>2</td>\n",
       "      <td>0</td>\n",
       "      <td>0</td>\n",
       "      <td>0</td>\n",
       "      <td>0</td>\n",
       "      <td>0</td>\n",
       "      <td>...</td>\n",
       "      <td>0</td>\n",
       "      <td>1</td>\n",
       "      <td>0</td>\n",
       "      <td>0</td>\n",
       "      <td>0</td>\n",
       "      <td>0</td>\n",
       "      <td>0</td>\n",
       "      <td>0</td>\n",
       "      <td>0</td>\n",
       "      <td>1</td>\n",
       "    </tr>\n",
       "    <tr>\n",
       "      <th>3</th>\n",
       "      <td>27700</td>\n",
       "      <td>2018</td>\n",
       "      <td>6654.0</td>\n",
       "      <td>red</td>\n",
       "      <td>3</td>\n",
       "      <td>1</td>\n",
       "      <td>0</td>\n",
       "      <td>0</td>\n",
       "      <td>0</td>\n",
       "      <td>0</td>\n",
       "      <td>...</td>\n",
       "      <td>0</td>\n",
       "      <td>0</td>\n",
       "      <td>0</td>\n",
       "      <td>0</td>\n",
       "      <td>0</td>\n",
       "      <td>0</td>\n",
       "      <td>0</td>\n",
       "      <td>0</td>\n",
       "      <td>1</td>\n",
       "      <td>0</td>\n",
       "    </tr>\n",
       "    <tr>\n",
       "      <th>4</th>\n",
       "      <td>5700</td>\n",
       "      <td>2018</td>\n",
       "      <td>45561.0</td>\n",
       "      <td>white</td>\n",
       "      <td>1</td>\n",
       "      <td>0</td>\n",
       "      <td>1</td>\n",
       "      <td>0</td>\n",
       "      <td>0</td>\n",
       "      <td>0</td>\n",
       "      <td>...</td>\n",
       "      <td>0</td>\n",
       "      <td>0</td>\n",
       "      <td>0</td>\n",
       "      <td>0</td>\n",
       "      <td>0</td>\n",
       "      <td>1</td>\n",
       "      <td>0</td>\n",
       "      <td>0</td>\n",
       "      <td>0</td>\n",
       "      <td>1</td>\n",
       "    </tr>\n",
       "  </tbody>\n",
       "</table>\n",
       "<p>5 rows × 21 columns</p>\n",
       "</div>"
      ],
      "text/plain": [
       "   price  year   mileage   color  AGE_IN_YEARS  chevrolet  dodge  gmc  jeep  \\\n",
       "0   2899  2011  190552.0  silver             3          0      0    0     0   \n",
       "1   5350  2018   39590.0  silver             2          0      1    0     0   \n",
       "2  25000  2014   64146.0    blue             2          0      0    0     0   \n",
       "3  27700  2018    6654.0     red             3          1      0    0     0   \n",
       "4   5700  2018   45561.0   white             1          0      1    0     0   \n",
       "\n",
       "   nissan ...  black  blue  gray  no_color  silver  white  Goa  MP  \\\n",
       "0       0 ...      0     0     0         0       1      0    0   0   \n",
       "1       0 ...      0     0     0         0       1      0    0   1   \n",
       "2       0 ...      0     1     0         0       0      0    0   0   \n",
       "3       0 ...      0     0     0         0       0      0    0   0   \n",
       "4       0 ...      0     0     0         0       0      1    0   0   \n",
       "\n",
       "   Maharashtra  UP  \n",
       "0            0   1  \n",
       "1            0   0  \n",
       "2            0   1  \n",
       "3            1   0  \n",
       "4            0   1  \n",
       "\n",
       "[5 rows x 21 columns]"
      ]
     },
     "execution_count": 66,
     "metadata": {},
     "output_type": "execute_result"
    }
   ],
   "source": [
    "data.head()"
   ]
  },
  {
   "cell_type": "code",
   "execution_count": 67,
   "metadata": {},
   "outputs": [
    {
     "data": {
      "text/plain": [
       "Index(['price', 'year', 'mileage', 'color', 'AGE_IN_YEARS', 'chevrolet',\n",
       "       'dodge', 'gmc', 'jeep', 'nissan', 'salvage insurance', 'black', 'blue',\n",
       "       'gray', 'no_color', 'silver', 'white', 'Goa', 'MP', 'Maharashtra',\n",
       "       'UP'],\n",
       "      dtype='object')"
      ]
     },
     "execution_count": 67,
     "metadata": {},
     "output_type": "execute_result"
    }
   ],
   "source": [
    "data.columns"
   ]
  },
  {
   "cell_type": "code",
   "execution_count": 68,
   "metadata": {},
   "outputs": [
    {
     "name": "stdout",
     "output_type": "stream",
     "text": [
      "<class 'pandas.core.frame.DataFrame'>\n",
      "RangeIndex: 2153 entries, 0 to 2152\n",
      "Data columns (total 21 columns):\n",
      "price                2153 non-null int64\n",
      "year                 2153 non-null int64\n",
      "mileage              2153 non-null float64\n",
      "color                2153 non-null object\n",
      "AGE_IN_YEARS         2153 non-null int64\n",
      "chevrolet            2153 non-null int64\n",
      "dodge                2153 non-null int64\n",
      "gmc                  2153 non-null int64\n",
      "jeep                 2153 non-null int64\n",
      "nissan               2153 non-null int64\n",
      "salvage insurance    2153 non-null int64\n",
      "black                2153 non-null int64\n",
      "blue                 2153 non-null int64\n",
      "gray                 2153 non-null int64\n",
      "no_color             2153 non-null int64\n",
      "silver               2153 non-null int64\n",
      "white                2153 non-null int64\n",
      "Goa                  2153 non-null int64\n",
      "MP                   2153 non-null int64\n",
      "Maharashtra          2153 non-null int64\n",
      "UP                   2153 non-null int64\n",
      "dtypes: float64(1), int64(19), object(1)\n",
      "memory usage: 353.3+ KB\n"
     ]
    }
   ],
   "source": [
    "data.info()"
   ]
  },
  {
   "cell_type": "code",
   "execution_count": null,
   "metadata": {},
   "outputs": [],
   "source": []
  },
  {
   "cell_type": "markdown",
   "metadata": {
    "colab_type": "text",
    "id": "vFgdtQPl9jUx"
   },
   "source": [
    "ONE HOT ENCODING THE COLOR COLUMN AND THEN DROPPING THE COLOR COLUMN"
   ]
  },
  {
   "cell_type": "code",
   "execution_count": 69,
   "metadata": {
    "colab": {},
    "colab_type": "code",
    "id": "wr-anAzs9jUy"
   },
   "outputs": [],
   "source": [
    "#ONE HOT ENCODING THE COLOR COLUMN\n",
    "data = pd.concat([data,pd.get_dummies(data['color']).drop('white',axis=1)],axis = 1)\n",
    "data = data.drop('color',axis = 1)"
   ]
  },
  {
   "cell_type": "code",
   "execution_count": 70,
   "metadata": {
    "colab": {},
    "colab_type": "code",
    "id": "dAxfI_kg9jU0"
   },
   "outputs": [
    {
     "data": {
      "text/html": [
       "<div>\n",
       "<style scoped>\n",
       "    .dataframe tbody tr th:only-of-type {\n",
       "        vertical-align: middle;\n",
       "    }\n",
       "\n",
       "    .dataframe tbody tr th {\n",
       "        vertical-align: top;\n",
       "    }\n",
       "\n",
       "    .dataframe thead th {\n",
       "        text-align: right;\n",
       "    }\n",
       "</style>\n",
       "<table border=\"1\" class=\"dataframe\">\n",
       "  <thead>\n",
       "    <tr style=\"text-align: right;\">\n",
       "      <th></th>\n",
       "      <th>price</th>\n",
       "      <th>year</th>\n",
       "      <th>mileage</th>\n",
       "      <th>AGE_IN_YEARS</th>\n",
       "      <th>chevrolet</th>\n",
       "      <th>dodge</th>\n",
       "      <th>gmc</th>\n",
       "      <th>jeep</th>\n",
       "      <th>nissan</th>\n",
       "      <th>salvage insurance</th>\n",
       "      <th>...</th>\n",
       "      <th>Goa</th>\n",
       "      <th>MP</th>\n",
       "      <th>Maharashtra</th>\n",
       "      <th>UP</th>\n",
       "      <th>black</th>\n",
       "      <th>blue</th>\n",
       "      <th>gray</th>\n",
       "      <th>no_color</th>\n",
       "      <th>red</th>\n",
       "      <th>silver</th>\n",
       "    </tr>\n",
       "  </thead>\n",
       "  <tbody>\n",
       "    <tr>\n",
       "      <th>0</th>\n",
       "      <td>2899</td>\n",
       "      <td>2011</td>\n",
       "      <td>190552.0</td>\n",
       "      <td>3</td>\n",
       "      <td>0</td>\n",
       "      <td>0</td>\n",
       "      <td>0</td>\n",
       "      <td>0</td>\n",
       "      <td>0</td>\n",
       "      <td>0</td>\n",
       "      <td>...</td>\n",
       "      <td>0</td>\n",
       "      <td>0</td>\n",
       "      <td>0</td>\n",
       "      <td>1</td>\n",
       "      <td>0</td>\n",
       "      <td>0</td>\n",
       "      <td>0</td>\n",
       "      <td>0</td>\n",
       "      <td>0</td>\n",
       "      <td>1</td>\n",
       "    </tr>\n",
       "    <tr>\n",
       "      <th>1</th>\n",
       "      <td>5350</td>\n",
       "      <td>2018</td>\n",
       "      <td>39590.0</td>\n",
       "      <td>2</td>\n",
       "      <td>0</td>\n",
       "      <td>1</td>\n",
       "      <td>0</td>\n",
       "      <td>0</td>\n",
       "      <td>0</td>\n",
       "      <td>0</td>\n",
       "      <td>...</td>\n",
       "      <td>0</td>\n",
       "      <td>1</td>\n",
       "      <td>0</td>\n",
       "      <td>0</td>\n",
       "      <td>0</td>\n",
       "      <td>0</td>\n",
       "      <td>0</td>\n",
       "      <td>0</td>\n",
       "      <td>0</td>\n",
       "      <td>1</td>\n",
       "    </tr>\n",
       "    <tr>\n",
       "      <th>2</th>\n",
       "      <td>25000</td>\n",
       "      <td>2014</td>\n",
       "      <td>64146.0</td>\n",
       "      <td>2</td>\n",
       "      <td>0</td>\n",
       "      <td>0</td>\n",
       "      <td>0</td>\n",
       "      <td>0</td>\n",
       "      <td>0</td>\n",
       "      <td>0</td>\n",
       "      <td>...</td>\n",
       "      <td>0</td>\n",
       "      <td>0</td>\n",
       "      <td>0</td>\n",
       "      <td>1</td>\n",
       "      <td>0</td>\n",
       "      <td>1</td>\n",
       "      <td>0</td>\n",
       "      <td>0</td>\n",
       "      <td>0</td>\n",
       "      <td>0</td>\n",
       "    </tr>\n",
       "    <tr>\n",
       "      <th>3</th>\n",
       "      <td>27700</td>\n",
       "      <td>2018</td>\n",
       "      <td>6654.0</td>\n",
       "      <td>3</td>\n",
       "      <td>1</td>\n",
       "      <td>0</td>\n",
       "      <td>0</td>\n",
       "      <td>0</td>\n",
       "      <td>0</td>\n",
       "      <td>0</td>\n",
       "      <td>...</td>\n",
       "      <td>0</td>\n",
       "      <td>0</td>\n",
       "      <td>1</td>\n",
       "      <td>0</td>\n",
       "      <td>0</td>\n",
       "      <td>0</td>\n",
       "      <td>0</td>\n",
       "      <td>0</td>\n",
       "      <td>1</td>\n",
       "      <td>0</td>\n",
       "    </tr>\n",
       "    <tr>\n",
       "      <th>4</th>\n",
       "      <td>5700</td>\n",
       "      <td>2018</td>\n",
       "      <td>45561.0</td>\n",
       "      <td>1</td>\n",
       "      <td>0</td>\n",
       "      <td>1</td>\n",
       "      <td>0</td>\n",
       "      <td>0</td>\n",
       "      <td>0</td>\n",
       "      <td>0</td>\n",
       "      <td>...</td>\n",
       "      <td>0</td>\n",
       "      <td>0</td>\n",
       "      <td>0</td>\n",
       "      <td>1</td>\n",
       "      <td>0</td>\n",
       "      <td>0</td>\n",
       "      <td>0</td>\n",
       "      <td>0</td>\n",
       "      <td>0</td>\n",
       "      <td>0</td>\n",
       "    </tr>\n",
       "  </tbody>\n",
       "</table>\n",
       "<p>5 rows × 26 columns</p>\n",
       "</div>"
      ],
      "text/plain": [
       "   price  year   mileage  AGE_IN_YEARS  chevrolet  dodge  gmc  jeep  nissan  \\\n",
       "0   2899  2011  190552.0             3          0      0    0     0       0   \n",
       "1   5350  2018   39590.0             2          0      1    0     0       0   \n",
       "2  25000  2014   64146.0             2          0      0    0     0       0   \n",
       "3  27700  2018    6654.0             3          1      0    0     0       0   \n",
       "4   5700  2018   45561.0             1          0      1    0     0       0   \n",
       "\n",
       "   salvage insurance   ...    Goa  MP  Maharashtra  UP  black  blue  gray  \\\n",
       "0                  0   ...      0   0            0   1      0     0     0   \n",
       "1                  0   ...      0   1            0   0      0     0     0   \n",
       "2                  0   ...      0   0            0   1      0     1     0   \n",
       "3                  0   ...      0   0            1   0      0     0     0   \n",
       "4                  0   ...      0   0            0   1      0     0     0   \n",
       "\n",
       "   no_color  red  silver  \n",
       "0         0    0       1  \n",
       "1         0    0       1  \n",
       "2         0    0       0  \n",
       "3         0    1       0  \n",
       "4         0    0       0  \n",
       "\n",
       "[5 rows x 26 columns]"
      ]
     },
     "execution_count": 70,
     "metadata": {},
     "output_type": "execute_result"
    }
   ],
   "source": [
    "# VIEWING THE DATA ONCE\n",
    "data.head()"
   ]
  },
  {
   "cell_type": "markdown",
   "metadata": {
    "colab_type": "text",
    "id": "-ZcVR3RC9jU4"
   },
   "source": [
    "WE USE THE train_test_split_function TO SPLIT THE DATA INTO TRAIN AND TEST <br>\n",
    "HERE WE IMPORT IT FROM SKLEARN"
   ]
  },
  {
   "cell_type": "code",
   "execution_count": 71,
   "metadata": {
    "colab": {},
    "colab_type": "code",
    "id": "di5Jh08_9jU4"
   },
   "outputs": [],
   "source": [
    "from sklearn.model_selection import train_test_split as tts"
   ]
  },
  {
   "cell_type": "markdown",
   "metadata": {
    "colab_type": "text",
    "id": "ll5Q2xCm9jU7"
   },
   "source": [
    "LET US LOOK AT THE PRICES DISTRIBUTION"
   ]
  },
  {
   "cell_type": "code",
   "execution_count": 72,
   "metadata": {
    "colab": {},
    "colab_type": "code",
    "id": "SZu32pba9jU7"
   },
   "outputs": [
    {
     "data": {
      "image/png": "[encoded data removed]",
      "text/plain": [
       "<Figure size 432x288 with 1 Axes>"
      ]
     },
     "metadata": {
      "needs_background": "light"
     },
     "output_type": "display_data"
    }
   ],
   "source": [
    "plt.hist(data['price']);"
   ]
  },
  {
   "cell_type": "markdown",
   "metadata": {
    "colab_type": "text",
    "id": "jn6ZMkZd9jU_"
   },
   "source": [
    "IT IS LEFT-SKEWED, WE HAVE LEARNT HOW TO HANDLE SKEWED DATA<br>\n",
    "We will either use log transform or sqrt transform"
   ]
  },
  {
   "cell_type": "code",
   "execution_count": 73,
   "metadata": {
    "colab": {},
    "colab_type": "code",
    "id": "nC13GB_f9jU_"
   },
   "outputs": [
    {
     "data": {
      "image/png": "[encoded data removed]",
      "text/plain": [
       "<Figure size 432x288 with 1 Axes>"
      ]
     },
     "metadata": {
      "needs_background": "light"
     },
     "output_type": "display_data"
    },
    {
     "data": {
      "image/png": "[encoded data removed]",
      "text/plain": [
       "<Figure size 432x288 with 1 Axes>"
      ]
     },
     "metadata": {
      "needs_background": "light"
     },
     "output_type": "display_data"
    }
   ],
   "source": [
    "plt.hist(np.sqrt(data['price']));\n",
    "plt.title('SQRT TRANSFORM');\n",
    "plt.show()\n",
    "plt.hist(np.log(data['price']));\n",
    "plt.title('LOG TRANSFORM');\n",
    "plt.show()"
   ]
  },
  {
   "cell_type": "markdown",
   "metadata": {
    "colab_type": "text",
    "id": "CIxuDmN89jVC"
   },
   "source": [
    "CLEARLY SQRT TRANSFORM IS BETTER"
   ]
  },
  {
   "cell_type": "code",
   "execution_count": 74,
   "metadata": {
    "colab": {},
    "colab_type": "code",
    "id": "ZEDTdMPP9jVC"
   },
   "outputs": [],
   "source": [
    "#CONVERT PRICES TO THEIR SQRT AND ROUND OFF DECIMALS TO TWO\n",
    "data['price'] = round(np.sqrt(data['price']),2)"
   ]
  },
  {
   "cell_type": "code",
   "execution_count": 75,
   "metadata": {
    "colab": {},
    "colab_type": "code",
    "id": "DsRrd_c79jVG"
   },
   "outputs": [],
   "source": [
    "#SPLIT DATA INTO TRAIN TEST SPLIT\n",
    "X_train,X_test,y_train,y_test = tts(data.drop('price',axis = 1),data['price'],test_size = 0.2,random_state = 1)"
   ]
  },
  {
   "cell_type": "code",
   "execution_count": 76,
   "metadata": {
    "colab": {},
    "colab_type": "code",
    "id": "66Pr1G_89jVI"
   },
   "outputs": [
    {
     "name": "stdout",
     "output_type": "stream",
     "text": [
      "(1722, 25)\n",
      "(431, 25)\n",
      "(1722,)\n",
      "(431,)\n",
      "\n",
      "Expected shapes\n",
      "(1722, 25)\n",
      "(431, 25)\n",
      "(1722,)\n",
      "(431,)\n",
      "\n",
      "Verify if they are matching\n"
     ]
    }
   ],
   "source": [
    "#LET US PRINT THE SHAPES\n",
    "print(X_train.shape)\n",
    "print(X_test.shape)\n",
    "print(y_train.shape)\n",
    "print(y_test.shape)\n",
    "\n",
    "print('\\nExpected shapes')\n",
    "print((1722, 25))\n",
    "print((431, 25))\n",
    "print((1722,))\n",
    "print((431,))\n",
    "print('\\nVerify if they are matching')"
   ]
  },
  {
   "cell_type": "markdown",
   "metadata": {
    "colab_type": "text",
    "id": "MTbjksBn9jVK"
   },
   "source": [
    "NOW <br>\n",
    "LET US APPLY LINEAR REGRESSION ON THE DATA, THIS TIME WE WILL IMPORT IT FROM SKLEARN <br>\n"
   ]
  },
  {
   "cell_type": "code",
   "execution_count": 77,
   "metadata": {
    "colab": {},
    "colab_type": "code",
    "id": "Qza5_BMn9jVK"
   },
   "outputs": [
    {
     "name": "stdout",
     "output_type": "stream",
     "text": [
      "Linear Regression Training R2 score is 0.35779358066728983\n",
      "Linear Regression Testing R2 score is 0.3340597013410297\n",
      "Linear Regression Training mean_squared_error is 90997459.2403794\n",
      "Linear Regression Testing mean_squared_error is 93998879.06677794\n",
      "Linear Regression Training mean_absolute_error is 6864.98050501777\n",
      "Linear Regression Testing mean_absolute_error is 6926.987292556897\n",
      "\n",
      "\n",
      "The correct values are :\n",
      "Linear Regression Training R2 score is 0.3577935806672855\n",
      "Linear Regression Testing R2 score is 0.33405970134102436\n",
      "Linear Regression Training mean_square_error is 90997459.24038002\n",
      "Linear Regression Testing mean_square_error is 93998879.06677869\n",
      "Linear Regression Training mean_absolute_error is 6864.980505017769\n",
      "Linear Regression Testing mean_absolute_error is 6926.987292556893\n",
      "\n",
      "Please verify if you have got the same values\n"
     ]
    }
   ],
   "source": [
    "from sklearn.linear_model import LinearRegression\n",
    "from sklearn.metrics import r2_score,mean_squared_error,mean_absolute_error\n",
    "# INITIALIZE LINEAR REGRESSION WITH ALL DEFAULT PARAMETERS\n",
    "Linreg = LinearRegression()\n",
    "Linreg.fit(X_train,y_train)\n",
    "\n",
    "# FIND TEST ERROR AND TRAIN ERROR WITH THE METRICS IMPORTED ABOVE\n",
    "# NOTE THAT WE HAVE SQUARED BACK THE VALUES AS WE ARE PREDICTING PRICES NOT THEIR SQUARE ROOT \n",
    "print(\"Linear Regression Training R2 score is \" + str(r2_score(np.square(y_train),np.square(Linreg.predict(X_train)))))\n",
    "print(\"Linear Regression Testing R2 score is \" + str(r2_score(np.square(y_test),np.square(Linreg.predict(X_test)))))\n",
    "\n",
    "\n",
    "\n",
    "\n",
    "print(\"Linear Regression Training mean_squared_error is\" +\" \"+ str(mean_squared_error(np.square(y_train),np.square(Linreg.predict(X_train)))))\n",
    "print(\"Linear Regression Testing mean_squared_error is\" + \" \"+str(mean_squared_error(np.square(y_test),np.square(Linreg.predict(X_test)))))\n",
    "\n",
    "\n",
    "print('Linear Regression Training mean_absolute_error is '+str(mean_absolute_error(np.square(y_train),np.square(Linreg.predict(X_train)))))\n",
    "print(\"Linear Regression Testing mean_absolute_error is \"+str(mean_absolute_error(np.square(y_test),np.square(Linreg.predict(X_test)))))\n",
    "\n",
    "\n",
    "print(\"\\n\")\n",
    "print(\"The correct values are :\")\n",
    "\n",
    "\n",
    "print('Linear Regression Training R2 score is 0.3577935806672855')\n",
    "print('Linear Regression Testing R2 score is 0.33405970134102436')\n",
    "print('Linear Regression Training mean_square_error is 90997459.24038002')\n",
    "print('Linear Regression Testing mean_square_error is 93998879.06677869')\n",
    "print('Linear Regression Training mean_absolute_error is 6864.980505017769')\n",
    "print('Linear Regression Testing mean_absolute_error is 6926.987292556893')\n",
    "\n",
    "print(\"\\nPlease verify if you have got the same values\")"
   ]
  },
  {
   "cell_type": "markdown",
   "metadata": {
    "colab_type": "text",
    "id": "Z3W4-0--9jVN"
   },
   "source": [
    "<br>\n",
    "NOW LET US WRITE THE SKLEARN IMPLEMENTATION OF DECISION TREE IN REGRESSION <br>"
   ]
  },
  {
   "cell_type": "code",
   "execution_count": 78,
   "metadata": {
    "colab": {},
    "colab_type": "code",
    "id": "f43pHl3y9jVO"
   },
   "outputs": [
    {
     "name": "stdout",
     "output_type": "stream",
     "text": [
      "Decision tree regressor training r2 score is 0.422869230755335\n",
      "Decision tree regressor testing r2 score is 0.36145560633416207\n",
      "Decision tree regressor training mean_squared_error is 81776562.90835412\n",
      "Decision tree regressor testing mean_squared_error is 90131889.2396716\n",
      "Decision tree regressor training mean_absolute_error is 6266.244817595775\n",
      "Decision tree regressor testing mean_absolute_error is 6846.025816839579\n"
     ]
    }
   ],
   "source": [
    "from sklearn.tree import DecisionTreeRegressor\n",
    "\n",
    "# INITIALIZE THE DECISION TREE WITH criterion as mse, max depth as 7 and Random State as 1\n",
    "# USE THE FIT METHOD TO FIND THE R2_SCORE, MSE, MAE For training as well as testing data\n",
    "\n",
    "\n",
    "\n",
    "dst=DecisionTreeRegressor(criterion='mse', max_depth=7, random_state= 1)\n",
    "dst.fit(X_train,y_train)\n",
    "\n",
    "\n",
    "print(\"Decision tree regressor training r2 score is \" + str(r2_score(np.square(y_train),np.square(dst.predict(X_train)))))\n",
    "print(\"Decision tree regressor testing r2 score is \" + str(r2_score(np.square(y_test), np.square(dst.predict(X_test)))))\n",
    "\n",
    "print(\"Decision tree regressor training mean_squared_error is \"+str(mean_squared_error(np.square(y_train),np.square(dst.predict(X_train)))))\n",
    "print(\"Decision tree regressor testing mean_squared_error is \" + str(mean_squared_error(np.square(y_test),np.square(dst.predict(X_test)))))\n",
    "\n",
    "print(\"Decision tree regressor training mean_absolute_error is \" + str(mean_absolute_error(np.square(y_train),np.square(dst.predict(X_train)))))\n",
    "print(\"Decision tree regressor testing mean_absolute_error is \"+str(mean_absolute_error(np.square(y_test),np.square(dst.predict(X_test)))))\n",
    "\n"
   ]
  },
  {
   "cell_type": "markdown",
   "metadata": {
    "colab_type": "text",
    "id": "TvQ6cQkC9jVQ"
   },
   "source": [
    "<br>NOW LET US WRITE THE SKLEARN IMPLEMENTATION OF SVM IN REGRESSION <br>"
   ]
  },
  {
   "cell_type": "code",
   "execution_count": 79,
   "metadata": {
    "colab": {},
    "colab_type": "code",
    "id": "wTlrmqiG9jVQ"
   },
   "outputs": [
    {
     "name": "stdout",
     "output_type": "stream",
     "text": [
      "SVR training r2 score is -1.2668220735156703e+30\n",
      "SVR testing r2 score is -1.2792018213442112e+27\n",
      "SVR training mean squared error is 1.7950239444715493e+38\n",
      "SVR testing mean squared error is 1.8056203769117988e+35\n",
      "SVR training mean absolute error is 7.116532563535954e+17\n",
      "SVR testing mean absolute error is 3.513267417707484e+17\n"
     ]
    },
    {
     "name": "stderr",
     "output_type": "stream",
     "text": [
      "C:\\Users\\kundan\\Anaconda3\\lib\\site-packages\\sklearn\\svm\\base.py:218: ConvergenceWarning: Solver terminated early (max_iter=3000).  Consider pre-processing your data with StandardScaler or MinMaxScaler.\n",
      "  % self.max_iter, ConvergenceWarning)\n"
     ]
    }
   ],
   "source": [
    "from sklearn.svm import SVR\n",
    "# INITIALIZE THE SVM WITH kernel as 'poly', maximum number of iterations as 3000, degree as 2, C(regularization parameter) as 0.1 \n",
    "# FIT THE DATA using FIT METHOD\n",
    "# Calculate the R2_score, mse, mae for training data as well as testing data.\n",
    "\n",
    "\n",
    "sv=SVR(kernel='poly', degree=2, max_iter=3000,C=0.1,)\n",
    "sv.fit(X_train,y_train)\n",
    "\n",
    "\n",
    "print(\"SVR training r2 score is \"+str(r2_score(np.square(y_train),np.square(sv.predict(X_train)))))\n",
    "print(\"SVR testing r2 score is \"+str(r2_score(np.square(y_test),np.square(sv.predict(X_test)))))\n",
    "\n",
    "print(\"SVR training mean squared error is \"+str(mean_squared_error(np.square(y_train),np.square(sv.predict(X_train)))))\n",
    "print(\"SVR testing mean squared error is \"+str(mean_squared_error(np.square(y_test),np.square(sv.predict(X_test)))))\n",
    "\n",
    "print(\"SVR training mean absolute error is \"+str(mean_absolute_error(np.square(y_train),np.square(sv.predict(X_train)))))\n",
    "print(\"SVR testing mean absolute error is \"+str(mean_absolute_error(np.square(y_test),np.square(sv.predict(X_test)))))\n"
   ]
  },
  {
   "cell_type": "markdown",
   "metadata": {
    "colab_type": "text",
    "id": "GByCRcmJ9jVT"
   },
   "source": [
    "YOU MIGHT SEE WORSE VALUES WHEN COMPARED TO LINEAR REGRESSION OR DECISION TREE AS THE DATA IS UNSCALED AND SVM REQUIRES MUCH MORE PREPROCESSING AND TUNING...BUT WE WON'T DO THAT HERE AS OUR AIM WAS JUST TO IMPLEMENT THE MODELS"
   ]
  },
  {
   "cell_type": "markdown",
   "metadata": {
    "colab_type": "text",
    "id": "BEE9QB4O9jVT"
   },
   "source": [
    "<br>\n",
    "NOW LET US WRITE THE SKLEARN IMPLEMENTATION OF Random Forest IN REGRESSION <br>"
   ]
  },
  {
   "cell_type": "code",
   "execution_count": 80,
   "metadata": {
    "colab": {},
    "colab_type": "code",
    "id": "uqrGh5AR9jVU"
   },
   "outputs": [
    {
     "name": "stdout",
     "output_type": "stream",
     "text": [
      "rfr training r2 score is 0.5524364393379151\n",
      "rfr testing r2 score is 0.3997413290406362\n",
      "rfr training mean_squared_error score is 63417533.12143005\n",
      "rfr testing mean_squared_error score is 84727778.65210524\n",
      "rfr training mean_absolute_error is 5528.669046457424\n",
      "rfr testing mean_absolute_error is 6695.668840563838\n"
     ]
    }
   ],
   "source": [
    "from sklearn.ensemble import RandomForestRegressor\n",
    "# INITIALIZE THE Random Forest Regressor WITH no: of trees as 200, max_depth as 9, n_jobs as -1(read documentation for more details) and random state as 1 \n",
    "\n",
    "# FIT THE DATA using FIT METHOD\n",
    "# Calculate the R2_score, mse, mae for training data as well as testing data.\n",
    "\n",
    "\n",
    "rfr= RandomForestRegressor(n_estimators=200, max_depth=9,n_jobs=-1,random_state=1)\n",
    "rfr.fit(X_train,y_train)\n",
    "\n",
    "print(\"rfr training r2 score is \"+str(r2_score(np.square(y_train),np.square(rfr.predict(X_train)))))\n",
    "print(\"rfr testing r2 score is \"+str(r2_score(np.square(y_test),np.square(rfr.predict(X_test)))))\n",
    "\n",
    "print(\"rfr training mean_squared_error score is \"+str(mean_squared_error(np.square(y_train),np.square(rfr.predict(X_train)))))\n",
    "print(\"rfr testing mean_squared_error score is \"+str(mean_squared_error(np.square(y_test),np.square(rfr.predict(X_test)))))\n",
    "\n",
    "print(\"rfr training mean_absolute_error is \"+str(mean_absolute_error(np.square(y_train),np.square(rfr.predict(X_train)))))\n",
    "print(\"rfr testing mean_absolute_error is \"+str(mean_absolute_error(np.square(y_test),np.square(rfr.predict(X_test)))))\n"
   ]
  },
  {
   "cell_type": "markdown",
   "metadata": {
    "colab_type": "text",
    "id": "sUEvPws29jVW"
   },
   "source": [
    "NOW FOR CLASSIFICATION MODELS WE NEED TO CONVERT THE TARGET VARIABLE INTO DIFFERENT CLASSES"
   ]
  },
  {
   "cell_type": "code",
   "execution_count": 81,
   "metadata": {
    "colab": {},
    "colab_type": "code",
    "id": "5EwOs0dv9jVX"
   },
   "outputs": [
    {
     "data": {
      "text/plain": [
       "count     2153.000000\n",
       "mean     19298.257905\n",
       "std      11904.254199\n",
       "min         25.000000\n",
       "25%      10799.366400\n",
       "50%      17300.140900\n",
       "75%      26001.562500\n",
       "max      74000.320900\n",
       "Name: price, dtype: float64"
      ]
     },
     "execution_count": 81,
     "metadata": {},
     "output_type": "execute_result"
    }
   ],
   "source": [
    "#FIND THE MEDIAN\n",
    "np.square(data['price']).describe()"
   ]
  },
  {
   "cell_type": "markdown",
   "metadata": {
    "colab_type": "text",
    "id": "SxdlNAd49jVa"
   },
   "source": [
    "WE WILL DO BINARY CLASSIFICATION AND DIVIDE THE DATA EQUALLY(ALMOST) INTO 1's AND 0's <br>\n",
    "WE HAVE CHOSEN THRESHOLD AT price = 20000"
   ]
  },
  {
   "cell_type": "code",
   "execution_count": 82,
   "metadata": {
    "colab": {},
    "colab_type": "code",
    "id": "waGj0igv9jVa"
   },
   "outputs": [],
   "source": [
    "data.loc[np.square(data['price']) < 20000,'price'] = 0\n",
    "data.loc[np.square(data['price']) >= 20000,'price'] = 1\n"
   ]
  },
  {
   "cell_type": "code",
   "execution_count": 83,
   "metadata": {
    "colab": {},
    "colab_type": "code",
    "id": "G4pCJ7pw9jVc"
   },
   "outputs": [
    {
     "data": {
      "text/html": [
       "<div>\n",
       "<style scoped>\n",
       "    .dataframe tbody tr th:only-of-type {\n",
       "        vertical-align: middle;\n",
       "    }\n",
       "\n",
       "    .dataframe tbody tr th {\n",
       "        vertical-align: top;\n",
       "    }\n",
       "\n",
       "    .dataframe thead th {\n",
       "        text-align: right;\n",
       "    }\n",
       "</style>\n",
       "<table border=\"1\" class=\"dataframe\">\n",
       "  <thead>\n",
       "    <tr style=\"text-align: right;\">\n",
       "      <th></th>\n",
       "      <th>price</th>\n",
       "      <th>year</th>\n",
       "      <th>mileage</th>\n",
       "      <th>AGE_IN_YEARS</th>\n",
       "      <th>chevrolet</th>\n",
       "      <th>dodge</th>\n",
       "      <th>gmc</th>\n",
       "      <th>jeep</th>\n",
       "      <th>nissan</th>\n",
       "      <th>salvage insurance</th>\n",
       "      <th>...</th>\n",
       "      <th>Goa</th>\n",
       "      <th>MP</th>\n",
       "      <th>Maharashtra</th>\n",
       "      <th>UP</th>\n",
       "      <th>black</th>\n",
       "      <th>blue</th>\n",
       "      <th>gray</th>\n",
       "      <th>no_color</th>\n",
       "      <th>red</th>\n",
       "      <th>silver</th>\n",
       "    </tr>\n",
       "  </thead>\n",
       "  <tbody>\n",
       "    <tr>\n",
       "      <th>0</th>\n",
       "      <td>0.0</td>\n",
       "      <td>2011</td>\n",
       "      <td>190552.0</td>\n",
       "      <td>3</td>\n",
       "      <td>0</td>\n",
       "      <td>0</td>\n",
       "      <td>0</td>\n",
       "      <td>0</td>\n",
       "      <td>0</td>\n",
       "      <td>0</td>\n",
       "      <td>...</td>\n",
       "      <td>0</td>\n",
       "      <td>0</td>\n",
       "      <td>0</td>\n",
       "      <td>1</td>\n",
       "      <td>0</td>\n",
       "      <td>0</td>\n",
       "      <td>0</td>\n",
       "      <td>0</td>\n",
       "      <td>0</td>\n",
       "      <td>1</td>\n",
       "    </tr>\n",
       "    <tr>\n",
       "      <th>1</th>\n",
       "      <td>0.0</td>\n",
       "      <td>2018</td>\n",
       "      <td>39590.0</td>\n",
       "      <td>2</td>\n",
       "      <td>0</td>\n",
       "      <td>1</td>\n",
       "      <td>0</td>\n",
       "      <td>0</td>\n",
       "      <td>0</td>\n",
       "      <td>0</td>\n",
       "      <td>...</td>\n",
       "      <td>0</td>\n",
       "      <td>1</td>\n",
       "      <td>0</td>\n",
       "      <td>0</td>\n",
       "      <td>0</td>\n",
       "      <td>0</td>\n",
       "      <td>0</td>\n",
       "      <td>0</td>\n",
       "      <td>0</td>\n",
       "      <td>1</td>\n",
       "    </tr>\n",
       "    <tr>\n",
       "      <th>2</th>\n",
       "      <td>1.0</td>\n",
       "      <td>2014</td>\n",
       "      <td>64146.0</td>\n",
       "      <td>2</td>\n",
       "      <td>0</td>\n",
       "      <td>0</td>\n",
       "      <td>0</td>\n",
       "      <td>0</td>\n",
       "      <td>0</td>\n",
       "      <td>0</td>\n",
       "      <td>...</td>\n",
       "      <td>0</td>\n",
       "      <td>0</td>\n",
       "      <td>0</td>\n",
       "      <td>1</td>\n",
       "      <td>0</td>\n",
       "      <td>1</td>\n",
       "      <td>0</td>\n",
       "      <td>0</td>\n",
       "      <td>0</td>\n",
       "      <td>0</td>\n",
       "    </tr>\n",
       "    <tr>\n",
       "      <th>3</th>\n",
       "      <td>1.0</td>\n",
       "      <td>2018</td>\n",
       "      <td>6654.0</td>\n",
       "      <td>3</td>\n",
       "      <td>1</td>\n",
       "      <td>0</td>\n",
       "      <td>0</td>\n",
       "      <td>0</td>\n",
       "      <td>0</td>\n",
       "      <td>0</td>\n",
       "      <td>...</td>\n",
       "      <td>0</td>\n",
       "      <td>0</td>\n",
       "      <td>1</td>\n",
       "      <td>0</td>\n",
       "      <td>0</td>\n",
       "      <td>0</td>\n",
       "      <td>0</td>\n",
       "      <td>0</td>\n",
       "      <td>1</td>\n",
       "      <td>0</td>\n",
       "    </tr>\n",
       "    <tr>\n",
       "      <th>4</th>\n",
       "      <td>0.0</td>\n",
       "      <td>2018</td>\n",
       "      <td>45561.0</td>\n",
       "      <td>1</td>\n",
       "      <td>0</td>\n",
       "      <td>1</td>\n",
       "      <td>0</td>\n",
       "      <td>0</td>\n",
       "      <td>0</td>\n",
       "      <td>0</td>\n",
       "      <td>...</td>\n",
       "      <td>0</td>\n",
       "      <td>0</td>\n",
       "      <td>0</td>\n",
       "      <td>1</td>\n",
       "      <td>0</td>\n",
       "      <td>0</td>\n",
       "      <td>0</td>\n",
       "      <td>0</td>\n",
       "      <td>0</td>\n",
       "      <td>0</td>\n",
       "    </tr>\n",
       "  </tbody>\n",
       "</table>\n",
       "<p>5 rows × 26 columns</p>\n",
       "</div>"
      ],
      "text/plain": [
       "   price  year   mileage  AGE_IN_YEARS  chevrolet  dodge  gmc  jeep  nissan  \\\n",
       "0    0.0  2011  190552.0             3          0      0    0     0       0   \n",
       "1    0.0  2018   39590.0             2          0      1    0     0       0   \n",
       "2    1.0  2014   64146.0             2          0      0    0     0       0   \n",
       "3    1.0  2018    6654.0             3          1      0    0     0       0   \n",
       "4    0.0  2018   45561.0             1          0      1    0     0       0   \n",
       "\n",
       "   salvage insurance   ...    Goa  MP  Maharashtra  UP  black  blue  gray  \\\n",
       "0                  0   ...      0   0            0   1      0     0     0   \n",
       "1                  0   ...      0   1            0   0      0     0     0   \n",
       "2                  0   ...      0   0            0   1      0     1     0   \n",
       "3                  0   ...      0   0            1   0      0     0     0   \n",
       "4                  0   ...      0   0            0   1      0     0     0   \n",
       "\n",
       "   no_color  red  silver  \n",
       "0         0    0       1  \n",
       "1         0    0       1  \n",
       "2         0    0       0  \n",
       "3         0    1       0  \n",
       "4         0    0       0  \n",
       "\n",
       "[5 rows x 26 columns]"
      ]
     },
     "execution_count": 83,
     "metadata": {},
     "output_type": "execute_result"
    }
   ],
   "source": [
    "data.head()"
   ]
  },
  {
   "cell_type": "code",
   "execution_count": 84,
   "metadata": {
    "colab": {},
    "colab_type": "code",
    "id": "no82fZ4Y9jVf"
   },
   "outputs": [],
   "source": [
    "X_train,X_test,y_train,y_test = tts(data.drop('price',axis = 1),data['price'],test_size = 0.2,random_state = 1)"
   ]
  },
  {
   "cell_type": "code",
   "execution_count": 85,
   "metadata": {
    "colab": {},
    "colab_type": "code",
    "id": "CWKZZWms9jVh"
   },
   "outputs": [],
   "source": [
    "from sklearn.linear_model import LogisticRegression\n",
    "from sklearn.svm import SVC\n",
    "from sklearn.tree import DecisionTreeClassifier\n",
    "from sklearn.ensemble import RandomForestClassifier\n",
    "from sklearn.metrics import confusion_matrix\n",
    "\n",
    "\n",
    "from sklearn.metrics import accuracy_score\n",
    "from sklearn import metrics"
   ]
  },
  {
   "cell_type": "code",
   "execution_count": 86,
   "metadata": {
    "colab": {},
    "colab_type": "code",
    "id": "mWkYGoJZ9jVj"
   },
   "outputs": [
    {
     "name": "stdout",
     "output_type": "stream",
     "text": [
      "[[782 231]\n",
      " [248 461]]\n",
      "accuracy    0.721835075493612\n",
      "[0.         0.22803554 1.        ]\n",
      "[0.         0.65021157 1.        ]\n",
      "[2. 1. 0.]\n",
      "0.721835075493612\n"
     ]
    },
    {
     "data": {
      "text/plain": [
       "[<matplotlib.lines.Line2D at 0x53fd358>]"
      ]
     },
     "execution_count": 86,
     "metadata": {},
     "output_type": "execute_result"
    },
    {
     "data": {
      "image/png": "[encoded data removed]",
      "text/plain": [
       "<Figure size 432x288 with 1 Axes>"
      ]
     },
     "metadata": {
      "needs_background": "light"
     },
     "output_type": "display_data"
    }
   ],
   "source": [
    "# INITIALIZE Logistic Regression BY TAKING solver as 'lbfgs', max_iter as 2000, C as 0.5 and penalty as 'l2' and random_state as 1 \n",
    "# FIT Logistic Regression ON TRAINING DATA\n",
    "# WRITE CODE HERE AND FIND THE TPR, FPR, SENSTIVITY, SPECIFICITY, ACCURACY FOR LOGISTIC REGRESSION\n",
    "# USE THE IMPORTED CONFUSION MATRIX\n",
    "\n",
    "\n",
    "lr= LogisticRegression(solver='lbfgs', max_iter=2000, C=0.5, penalty='l2', random_state=1)\n",
    "lr.fit(X_train,y_train)\n",
    "\n",
    "cnf_matrix=confusion_matrix(y_train, lr.predict(X_train))\n",
    "print(cnf_matrix)\n",
    "print(\"accuracy    \" + str(accuracy_score(y_train, lr.predict(X_train))))\n",
    "\n",
    "fpr, tpr, threshold = metrics.roc_curve(y_train,lr.predict(X_train))\n",
    "print(fpr)\n",
    "print(tpr)\n",
    "print(threshold)\n",
    "\n",
    "print(lr.score(X_train, y_train))\n",
    "\n",
    "plt.plot(fpr,tpr)\n",
    "\n"
   ]
  },
  {
   "cell_type": "code",
   "execution_count": 96,
   "metadata": {},
   "outputs": [
    {
     "name": "stdout",
     "output_type": "stream",
     "text": [
      "FP  231.0\n",
      "FN  248.0\n",
      "TP  461.0\n",
      "TN  782.0\n",
      "TPR  0.6502115655853314\n",
      "TNR  0.771964461994077\n",
      "PPV  0.6661849710982659\n",
      "NPV  0.7592233009708738\n",
      "FPR  0.228035538005923\n",
      "FNR  0.34978843441466856\n",
      "FDR  0.3338150289017341\n",
      "ACC  0.721835075493612\n"
     ]
    }
   ],
   "source": [
    "# FP = cnf_matrix.sum(axis=0) - np.diag(cnf_matrix)  \n",
    "# FN = cnf_matrix.sum(axis=1) - np.diag(cnf_matrix)\n",
    "# TP = np.diag(cnf_matrix)\n",
    "# TN = cnf_matrix.sum() - (FP + FN + TP)\n",
    "\n",
    "FP = cnf_matrix[0,1]\n",
    "FN = cnf_matrix[1,0]\n",
    "TP = cnf_matrix[1,1]\n",
    "TN = cnf_matrix[0,0]\n",
    "\n",
    "FP = FP.astype(float)\n",
    "FN = FN.astype(float)\n",
    "TP = TP.astype(float)\n",
    "TN = TN.astype(float)\n",
    "\n",
    "\n",
    "# Sensitivity, hit rate, recall, or true positive rate\n",
    "TPR = TP/(TP+FN)\n",
    "# Specificity or true negative rate\n",
    "TNR = TN/(TN+FP) \n",
    "# Precision or positive predictive value\n",
    "PPV = TP/(TP+FP)\n",
    "# Negative predictive value\n",
    "NPV = TN/(TN+FN)\n",
    "# Fall out or false positive rate\n",
    "FPR = FP/(FP+TN)\n",
    "# False negative rate\n",
    "FNR = FN/(TP+FN)\n",
    "# False discovery rate\n",
    "FDR = FP/(TP+FP)\n",
    "\n",
    "# Overall accuracy\n",
    "ACC = (TP+TN)/(TP+FP+FN+TN)\n",
    "\n",
    "print('FP  ' +str(FP))\n",
    "print('FN  ' +str(FN))\n",
    "print('TP  ' +str(TP))\n",
    "print('TN  ' +str(TN))\n",
    "print('TPR  ' +str(TPR))\n",
    "print('TNR  ' +str(TNR))\n",
    "print('PPV  ' +str(PPV))\n",
    "print('NPV  ' +str(NPV))\n",
    "print('FPR  ' +str(FPR))\n",
    "print('FNR  ' +str(FNR))\n",
    "print('FDR  ' +str(FDR))\n",
    "print('ACC  ' +str(ACC))"
   ]
  },
  {
   "cell_type": "code",
   "execution_count": 97,
   "metadata": {},
   "outputs": [
    {
     "name": "stdout",
     "output_type": "stream",
     "text": [
      "[[188  55]\n",
      " [ 65 123]]\n",
      "FP  55.0\n",
      "FN  65.0\n",
      "TP  123.0\n",
      "TN  188.0\n",
      "TPR  0.6542553191489362\n",
      "TNR  0.7736625514403292\n",
      "PPV  0.6910112359550562\n",
      "NPV  0.7430830039525692\n",
      "FPR  0.22633744855967078\n",
      "FNR  0.34574468085106386\n",
      "FDR  0.3089887640449438\n",
      "ACC  0.7215777262180975\n"
     ]
    }
   ],
   "source": [
    "\n",
    "\n",
    "cnf_matrix_testing=confusion_matrix(y_test, lr.predict(X_test))\n",
    "print(cnf_matrix_testing)\n",
    "\n",
    "FP = cnf_matrix_testing[0,1]\n",
    "FN = cnf_matrix_testing[1,0]\n",
    "TP = cnf_matrix_testing[1,1]\n",
    "TN = cnf_matrix_testing[0,0]\n",
    "\n",
    "FP = FP.astype(float)\n",
    "FN = FN.astype(float)\n",
    "TP = TP.astype(float)\n",
    "TN = TN.astype(float)\n",
    "\n",
    "\n",
    "# Sensitivity, hit rate, recall, or true positive rate\n",
    "TPR = TP/(TP+FN)\n",
    "# Specificity or true negative rate\n",
    "TNR = TN/(TN+FP) \n",
    "# Precision or positive predictive value\n",
    "PPV = TP/(TP+FP)\n",
    "# Negative predictive value\n",
    "NPV = TN/(TN+FN)\n",
    "# Fall out or false positive rate\n",
    "FPR = FP/(FP+TN)\n",
    "# False negative rate\n",
    "FNR = FN/(TP+FN)\n",
    "# False discovery rate\n",
    "FDR = FP/(TP+FP)\n",
    "\n",
    "# Overall accuracy\n",
    "ACC = (TP+TN)/(TP+FP+FN+TN)\n",
    "\n",
    "print('FP  ' +str(FP))\n",
    "print('FN  ' +str(FN))\n",
    "print('TP  ' +str(TP))\n",
    "print('TN  ' +str(TN))\n",
    "print('TPR  ' +str(TPR))\n",
    "print('TNR  ' +str(TNR))\n",
    "print('PPV  ' +str(PPV))\n",
    "print('NPV  ' +str(NPV))\n",
    "print('FPR  ' +str(FPR))\n",
    "print('FNR  ' +str(FNR))\n",
    "print('FDR  ' +str(FDR))\n",
    "print('ACC  ' +str(ACC))"
   ]
  },
  {
   "cell_type": "code",
   "execution_count": 112,
   "metadata": {},
   "outputs": [
    {
     "data": {
      "text/plain": [
       "year                 4.813090e-03\n",
       "mileage              1.684115e-11\n",
       "AGE_IN_YEARS         3.279785e-02\n",
       "chevrolet            3.673321e-01\n",
       "dodge                2.642263e-01\n",
       "gmc                  2.065488e+00\n",
       "jeep                 3.864844e+00\n",
       "nissan               3.321253e-01\n",
       "salvage insurance    9.978323e-01\n",
       "black                2.298689e-01\n",
       "blue                 6.981917e-01\n",
       "gray                 2.919190e-01\n",
       "no_color             1.537596e+00\n",
       "silver               3.559834e-01\n",
       "white                1.859090e-01\n",
       "Goa                  2.661573e-01\n",
       "MP                   2.402968e-01\n",
       "Maharashtra          2.522825e-01\n",
       "UP                   2.342292e-01\n",
       "black                2.298689e-01\n",
       "blue                 6.981917e-01\n",
       "gray                 2.919190e-01\n",
       "no_color             1.537596e+00\n",
       "red                  5.283584e-01\n",
       "silver               3.559834e-01\n",
       "dtype: float64"
      ]
     },
     "execution_count": 112,
     "metadata": {},
     "output_type": "execute_result"
    }
   ],
   "source": [
    "a=1/(len(X_train.columns)*X_train.var())\n",
    "a"
   ]
  },
  {
   "cell_type": "code",
   "execution_count": 136,
   "metadata": {},
   "outputs": [
    {
     "data": {
      "text/plain": [
       "25"
      ]
     },
     "execution_count": 136,
     "metadata": {},
     "output_type": "execute_result"
    }
   ],
   "source": [
    "num_features=len(X_train.columns)\n",
    "num_features"
   ]
  },
  {
   "cell_type": "code",
   "execution_count": 137,
   "metadata": {},
   "outputs": [
    {
     "data": {
      "text/plain": [
       "59378371386.76001"
      ]
     },
     "execution_count": 137,
     "metadata": {},
     "output_type": "execute_result"
    }
   ],
   "source": [
    "a = X_train.var().sum()*num_features\n",
    "a"
   ]
  },
  {
   "cell_type": "code",
   "execution_count": 138,
   "metadata": {},
   "outputs": [
    {
     "data": {
      "text/plain": [
       "1.6841149001654443e-11"
      ]
     },
     "execution_count": 138,
     "metadata": {},
     "output_type": "execute_result"
    }
   ],
   "source": [
    "g = 1/a\n",
    "g"
   ]
  },
  {
   "cell_type": "code",
   "execution_count": 139,
   "metadata": {
    "colab": {},
    "colab_type": "code",
    "id": "wGv7G_Q29jVl"
   },
   "outputs": [
    {
     "name": "stdout",
     "output_type": "stream",
     "text": [
      "[[730 283]\n",
      " [247 462]]\n",
      "TP  462\n",
      "TN  730\n",
      "FP  283\n",
      "FN  247\n",
      "TPR  0.6516220028208745\n",
      "TNR  0.7206317867719645\n",
      "PPV  0.6201342281879194\n",
      "NPV  0.7471852610030706\n",
      "FPR  0.2793682132280355\n",
      "FNR  0.34837799717912554\n",
      "FDR  0.37986577181208053\n",
      "ACC  0.6922183507549361\n",
      "\n"
     ]
    }
   ],
   "source": [
    "# INITIALIZE SVM BY TAKING kernal as 'rbf', max_iter as 1000 and random_state as 1 and gamma as scale\n",
    "# FIT SVM ON TRAINING DATA\n",
    "# WRITE CODE HERE AND FIND THE TPR, FPR, SENSTIVITY, SPECIFICITY, ACCURACY FOR SVM\n",
    "# USE THE IMPORTED CONFUSION MATRIX\n",
    "\n",
    "\n",
    "svm = SVC(kernel='rbf', max_iter = 1000,gamma=g, random_state= 1)\n",
    "svm.fit(X_train,y_train)\n",
    "\n",
    "c1 = metrics.confusion_matrix(y_train,svm.predict(X_train))\n",
    "print(c1)\n",
    "\n",
    "TP=c1[1,1]\n",
    "TN=c1[0,0]\n",
    "FP=c1[0,1]\n",
    "FN=c1[1,0]\n",
    "\n",
    "print(\"TP  \" +str(TP))\n",
    "print(\"TN  \" +str(TN))\n",
    "print(\"FP  \"+str(FP))\n",
    "print(\"FN  \"+str(FN))\n",
    "\n",
    "\n",
    "# Sensitivity, hit rate, recall, or true positive rate\n",
    "TPR = TP/(TP+FN)\n",
    "# Specificity or true negative rate\n",
    "TNR = TN/(TN+FP) \n",
    "# Precision or positive predictive value\n",
    "PPV = TP/(TP+FP)\n",
    "# Negative predictive value\n",
    "NPV = TN/(TN+FN)\n",
    "# Fall out or false positive rate\n",
    "FPR = FP/(FP+TN)\n",
    "# False negative rate\n",
    "FNR = FN/(TP+FN)\n",
    "# False discovery rate\n",
    "FDR = FP/(TP+FP)\n",
    "\n",
    "# Overall accuracy\n",
    "ACC = (TP+TN)/(TP+FP+FN+TN)\n",
    "\n",
    "\n",
    "print('TPR  ' +str(TPR))\n",
    "print('TNR  ' +str(TNR))\n",
    "print('PPV  ' +str(PPV))\n",
    "print('NPV  ' +str(NPV))\n",
    "print('FPR  ' +str(FPR))\n",
    "print('FNR  ' +str(FNR))\n",
    "print('FDR  ' +str(FDR))\n",
    "print('ACC  ' +str(ACC))\n",
    "print()\n",
    "\n"
   ]
  },
  {
   "cell_type": "code",
   "execution_count": 140,
   "metadata": {},
   "outputs": [
    {
     "name": "stdout",
     "output_type": "stream",
     "text": [
      "[[183  60]\n",
      " [ 58 130]]\n",
      "TP  130\n",
      "TN  183\n",
      "FP  60\n",
      "FN  58\n",
      "TPR  0.6914893617021277\n",
      "TNR  0.7530864197530864\n",
      "PPV  0.6842105263157895\n",
      "NPV  0.7593360995850622\n",
      "FPR  0.24691358024691357\n",
      "FNR  0.30851063829787234\n",
      "FDR  0.3157894736842105\n",
      "ACC  0.7262180974477959\n",
      "\n"
     ]
    }
   ],
   "source": [
    "#SVM for testing data\n",
    "\n",
    "\n",
    "\n",
    "c9 = metrics.confusion_matrix(y_test,svm.predict(X_test))\n",
    "print(c9)\n",
    "\n",
    "TP=c9[1,1]\n",
    "TN=c9[0,0]\n",
    "FP=c9[0,1]\n",
    "FN=c9[1,0]\n",
    "\n",
    "print(\"TP  \" +str(TP))\n",
    "print(\"TN  \" +str(TN))\n",
    "print(\"FP  \"+str(FP))\n",
    "print(\"FN  \"+str(FN))\n",
    "\n",
    "\n",
    "# Sensitivity, hit rate, recall, or true positive rate\n",
    "TPR = TP/(TP+FN)\n",
    "# Specificity or true negative rate\n",
    "TNR = TN/(TN+FP) \n",
    "# Precision or positive predictive value\n",
    "PPV = TP/(TP+FP)\n",
    "# Negative predictive value\n",
    "NPV = TN/(TN+FN)\n",
    "# Fall out or false positive rate\n",
    "FPR = FP/(FP+TN)\n",
    "# False negative rate\n",
    "FNR = FN/(TP+FN)\n",
    "# False discovery rate\n",
    "FDR = FP/(TP+FP)\n",
    "\n",
    "# Overall accuracy\n",
    "ACC = (TP+TN)/(TP+FP+FN+TN)\n",
    "\n",
    "\n",
    "print('TPR  ' +str(TPR))\n",
    "print('TNR  ' +str(TNR))\n",
    "print('PPV  ' +str(PPV))\n",
    "print('NPV  ' +str(NPV))\n",
    "print('FPR  ' +str(FPR))\n",
    "print('FNR  ' +str(FNR))\n",
    "print('FDR  ' +str(FDR))\n",
    "print('ACC  ' +str(ACC))\n",
    "print()\n",
    "\n"
   ]
  },
  {
   "cell_type": "code",
   "execution_count": 100,
   "metadata": {
    "colab": {},
    "colab_type": "code",
    "id": "y8OSZT7q9jVn"
   },
   "outputs": [
    {
     "name": "stdout",
     "output_type": "stream",
     "text": [
      "[[889 124]\n",
      " [324 385]]\n",
      "TP  385\n",
      "TN  889\n",
      "FP  124\n",
      "FN  324\n",
      "TPR  0.5430183356840621\n",
      "TNR  0.8775913129318855\n",
      "PPV  0.756385068762279\n",
      "NPV  0.7328936521022259\n",
      "FPR  0.12240868706811452\n",
      "FNR  0.45698166431593795\n",
      "FDR  0.24361493123772102\n",
      "ACC  0.7398373983739838\n"
     ]
    }
   ],
   "source": [
    "\n",
    "# INITIALIZE DECISION TREE CLASSIFIER BY TAKING criterion as 'gini' , max_depth as 3, and random_state as 1\n",
    "# FIT Decision Tree ON TRAINING DATA\n",
    "# WRITE CODE HERE AND FIND THE TPR, FPR, SENSTIVITY, SPECIFICITY, ACCURACY FOR Decision Tree\n",
    "# USE THE IMPORTED CONFUSION MATRIX\n",
    "\n",
    "dt=DecisionTreeClassifier(criterion='gini',max_depth=3, random_state=1)\n",
    "dt.fit(X_train,y_train)\n",
    "\n",
    "\n",
    "c2 = metrics.confusion_matrix(y_train,dt.predict(X_train))\n",
    "print(c2)\n",
    "\n",
    "TP=c2[1,1]\n",
    "TN=c2[0,0]\n",
    "FP=c2[0,1]\n",
    "FN=c2[1,0]\n",
    "\n",
    "print(\"TP  \" +str(TP))\n",
    "print(\"TN  \" +str(TN))\n",
    "print(\"FP  \"+str(FP))\n",
    "print(\"FN  \"+str(FN))\n",
    "\n",
    "\n",
    "# Sensitivity, hit rate, recall, or true positive rate\n",
    "TPR = TP/(TP+FN)\n",
    "# Specificity or true negative rate\n",
    "TNR = TN/(TN+FP) \n",
    "# Precision or positive predictive value\n",
    "PPV = TP/(TP+FP)\n",
    "# Negative predictive value\n",
    "NPV = TN/(TN+FN)\n",
    "# Fall out or false positive rate\n",
    "FPR = FP/(FP+TN)\n",
    "# False negative rate\n",
    "FNR = FN/(TP+FN)\n",
    "# False discovery rate\n",
    "FDR = FP/(TP+FP)\n",
    "\n",
    "# Overall accuracy\n",
    "ACC = (TP+TN)/(TP+FP+FN+TN)\n",
    "\n",
    "\n",
    "print('TPR  ' +str(TPR))\n",
    "print('TNR  ' +str(TNR))\n",
    "print('PPV  ' +str(PPV))\n",
    "print('NPV  ' +str(NPV))\n",
    "print('FPR  ' +str(FPR))\n",
    "print('FNR  ' +str(FNR))\n",
    "print('FDR  ' +str(FDR))\n",
    "print('ACC  ' +str(ACC))\n",
    "\n"
   ]
  },
  {
   "cell_type": "code",
   "execution_count": 101,
   "metadata": {},
   "outputs": [
    {
     "name": "stdout",
     "output_type": "stream",
     "text": [
      "[[215  28]\n",
      " [ 82 106]]\n",
      "TP  106\n",
      "TN  215\n",
      "FP  28\n",
      "FN  82\n",
      "TPR  0.5638297872340425\n",
      "TNR  0.8847736625514403\n",
      "PPV  0.7910447761194029\n",
      "NPV  0.7239057239057239\n",
      "FPR  0.11522633744855967\n",
      "FNR  0.43617021276595747\n",
      "FDR  0.208955223880597\n",
      "ACC  0.7447795823665894\n"
     ]
    }
   ],
   "source": [
    "#for decision tree testing data\n",
    "\n",
    "c3 = metrics.confusion_matrix(y_test,dt.predict(X_test))\n",
    "print(c3)\n",
    "\n",
    "TP=c3[1,1]\n",
    "TN=c3[0,0]\n",
    "FP=c3[0,1]\n",
    "FN=c3[1,0]\n",
    "\n",
    "print(\"TP  \" +str(TP))\n",
    "print(\"TN  \" +str(TN))\n",
    "print(\"FP  \"+str(FP))\n",
    "print(\"FN  \"+str(FN))\n",
    "\n",
    "\n",
    "# Sensitivity, hit rate, recall, or true positive rate\n",
    "TPR = TP/(TP+FN)\n",
    "# Specificity or true negative rate\n",
    "TNR = TN/(TN+FP) \n",
    "# Precision or positive predictive value\n",
    "PPV = TP/(TP+FP)\n",
    "# Negative predictive value\n",
    "NPV = TN/(TN+FN)\n",
    "# Fall out or false positive rate\n",
    "FPR = FP/(FP+TN)\n",
    "# False negative rate\n",
    "FNR = FN/(TP+FN)\n",
    "# False discovery rate\n",
    "FDR = FP/(TP+FP)\n",
    "\n",
    "# Overall accuracy\n",
    "ACC = (TP+TN)/(TP+FP+FN+TN)\n",
    "\n",
    "\n",
    "print('TPR  ' +str(TPR))\n",
    "print('TNR  ' +str(TNR))\n",
    "print('PPV  ' +str(PPV))\n",
    "print('NPV  ' +str(NPV))\n",
    "print('FPR  ' +str(FPR))\n",
    "print('FNR  ' +str(FNR))\n",
    "print('FDR  ' +str(FDR))\n",
    "print('ACC  ' +str(ACC))\n"
   ]
  },
  {
   "cell_type": "code",
   "execution_count": 102,
   "metadata": {
    "colab": {},
    "colab_type": "code",
    "id": "HZRx_Rez9jVq"
   },
   "outputs": [
    {
     "name": "stdout",
     "output_type": "stream",
     "text": [
      "[[891 122]\n",
      " [323 386]]\n",
      "TP  386\n",
      "TN  891\n",
      "FP  122\n",
      "FN  323\n",
      "TPR  0.5444287729196051\n",
      "TNR  0.8795656465942744\n",
      "PPV  0.7598425196850394\n",
      "NPV  0.7339373970345964\n",
      "FPR  0.12043435340572557\n",
      "FNR  0.45557122708039494\n",
      "FDR  0.24015748031496062\n",
      "ACC  0.7415795586527294\n"
     ]
    }
   ],
   "source": [
    "# INITIALIZE RANDOM FOREST CLASSIFIER BY TAKING no:of trees as 100 , max_depth as 3,criterion as 'gini' and random_state as 1 \n",
    "# FIT RANDOM FOREST ON TRAINING DATA\n",
    "# WRITE CODE HERE AND FIND THE TPR, FPR, SENSTIVITY, SPECIFICITY, ACCURACY FOR Random Forest\n",
    "# USE THE IMPORTED CONFUSION MATRIX\n",
    "\n",
    "\n",
    "\n",
    "rf= RandomForestClassifier(n_estimators= 100, max_depth= 3, criterion= 'gini', random_state= 1)\n",
    "rf.fit(X_train,y_train)\n",
    "\n",
    "\n",
    "c4 = metrics.confusion_matrix(y_train,rf.predict(X_train))\n",
    "print(c4)\n",
    "\n",
    "TP=c4[1,1]\n",
    "TN=c4[0,0]\n",
    "FP=c4[0,1]\n",
    "FN=c4[1,0]\n",
    "\n",
    "print(\"TP  \" +str(TP))\n",
    "print(\"TN  \" +str(TN))\n",
    "print(\"FP  \"+str(FP))\n",
    "print(\"FN  \"+str(FN))\n",
    "\n",
    "\n",
    "# Sensitivity, hit rate, recall, or true positive rate\n",
    "TPR = TP/(TP+FN)\n",
    "# Specificity or true negative rate\n",
    "TNR = TN/(TN+FP) \n",
    "# Precision or positive predictive value\n",
    "PPV = TP/(TP+FP)\n",
    "# Negative predictive value\n",
    "NPV = TN/(TN+FN)\n",
    "# Fall out or false positive rate\n",
    "FPR = FP/(FP+TN)\n",
    "# False negative rate\n",
    "FNR = FN/(TP+FN)\n",
    "# False discovery rate\n",
    "FDR = FP/(TP+FP)\n",
    "\n",
    "# Overall accuracy\n",
    "ACC = (TP+TN)/(TP+FP+FN+TN)\n",
    "\n",
    "\n",
    "print('TPR  ' +str(TPR))\n",
    "print('TNR  ' +str(TNR))\n",
    "print('PPV  ' +str(PPV))\n",
    "print('NPV  ' +str(NPV))\n",
    "print('FPR  ' +str(FPR))\n",
    "print('FNR  ' +str(FNR))\n",
    "print('FDR  ' +str(FDR))\n",
    "print('ACC  ' +str(ACC))\n",
    "\n"
   ]
  },
  {
   "cell_type": "code",
   "execution_count": 94,
   "metadata": {},
   "outputs": [
    {
     "name": "stdout",
     "output_type": "stream",
     "text": [
      "[[214  29]\n",
      " [ 82 106]]\n",
      "TP  106\n",
      "TN  214\n",
      "FP  29\n",
      "FN  82\n",
      "TPR  0.5638297872340425\n",
      "TNR  0.8806584362139918\n",
      "PPV  0.7851851851851852\n",
      "NPV  0.722972972972973\n",
      "FPR  0.11934156378600823\n",
      "FNR  0.43617021276595747\n",
      "FDR  0.21481481481481482\n",
      "ACC  0.7424593967517401\n"
     ]
    }
   ],
   "source": [
    "#for random forest testing data\n",
    "\n",
    "c5 = metrics.confusion_matrix(y_test,rf.predict(X_test))\n",
    "print(c5)\n",
    "\n",
    "TP=c5[1,1]\n",
    "TN=c5[0,0]\n",
    "FP=c5[0,1]\n",
    "FN=c5[1,0]\n",
    "\n",
    "print(\"TP  \" +str(TP))\n",
    "print(\"TN  \" +str(TN))\n",
    "print(\"FP  \"+str(FP))\n",
    "print(\"FN  \"+str(FN))\n",
    "\n",
    "\n",
    "# Sensitivity, hit rate, recall, or true positive rate\n",
    "TPR = TP/(TP+FN)\n",
    "# Specificity or true negative rate\n",
    "TNR = TN/(TN+FP) \n",
    "# Precision or positive predictive value\n",
    "PPV = TP/(TP+FP)\n",
    "# Negative predictive value\n",
    "NPV = TN/(TN+FN)\n",
    "# Fall out or false positive rate\n",
    "FPR = FP/(FP+TN)\n",
    "# False negative rate\n",
    "FNR = FN/(TP+FN)\n",
    "# False discovery rate\n",
    "FDR = FP/(TP+FP)\n",
    "\n",
    "# Overall accuracy\n",
    "ACC = (TP+TN)/(TP+FP+FN+TN)\n",
    "\n",
    "\n",
    "print('TPR  ' +str(TPR))\n",
    "print('TNR  ' +str(TNR))\n",
    "print('PPV  ' +str(PPV))\n",
    "print('NPV  ' +str(NPV))\n",
    "print('FPR  ' +str(FPR))\n",
    "print('FNR  ' +str(FNR))\n",
    "print('FDR  ' +str(FDR))\n",
    "print('ACC  ' +str(ACC))\n"
   ]
  }
 ],
 "metadata": {
  "colab": {
   "collapsed_sections": [],
   "name": "WEEK4.ipynb",
   "provenance": []
  },
  "kernelspec": {
   "display_name": "Python 3",
   "language": "python",
   "name": "python3"
  },
  "language_info": {
   "codemirror_mode": {
    "name": "ipython",
    "version": 3
   },
   "file_extension": ".py",
   "mimetype": "text/x-python",
   "name": "python",
   "nbconvert_exporter": "python",
   "pygments_lexer": "ipython3",
   "version": "3.7.0"
  }
 },
 "nbformat": 4,
 "nbformat_minor": 1
}
